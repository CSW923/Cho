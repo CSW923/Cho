{
 "cells": [
  {
   "cell_type": "code",
   "execution_count": null,
   "metadata": {},
   "outputs": [],
   "source": [
    "from __future__ import print_function\n",
    "import ex1_kwstest as kws\n",
    "import ex4_getText2VoiceStream as tts\n",
    "import ex6_queryVoice as dss\n",
    "import MicrophoneStream as MS\n",
    "import time\n",
    "\n",
    "def main():\n",
    "    #Example8 Button+STT+DSS\n",
    "    KWSID = ['기가지니', '지니야', '친구야', '자기야']\n",
    "    while 1:\n",
    "        recog = kws.btn_test(KWSID[0])\n",
    "        if recog == 200:\n",
    "            print('KWS Dectected ...\\n Start STT...')\n",
    "            text = dss.queryByVoice()\n",
    "            tts_result = tts.getText2VoiceStream(text, \"result_mesg.wav\")\n",
    "            if text == '':\n",
    "                print('질의한 내용이 없습니다.')\n",
    "            elif tts_result == 500:\n",
    "                print(\"TTS 동작 에러입니다.\\n\")\n",
    "                break\n",
    "            elif test == '' :\n",
    "                print(\"\")\n",
    "                break\n",
    "            else:\n",
    "                MS.play_file(\"result_mesg.wav\")\n",
    "                print(\"\")\n",
    "            time.sleep(2)\n",
    "        \n",
    "        else:\n",
    "            print('KWS Not Dectected ...')\n",
    "if __name__ == '__main__':\n",
    "    main()"
   ]
  }
 ],
 "metadata": {
  "kernelspec": {
   "display_name": "Python 3",
   "language": "python",
   "name": "python3"
  },
  "language_info": {
   "codemirror_mode": {
    "name": "ipython",
    "version": 3
   },
   "file_extension": ".py",
   "mimetype": "text/x-python",
   "name": "python",
   "nbconvert_exporter": "python",
   "pygments_lexer": "ipython3",
   "version": "3.8.3"
  }
 },
 "nbformat": 4,
 "nbformat_minor": 4
}
